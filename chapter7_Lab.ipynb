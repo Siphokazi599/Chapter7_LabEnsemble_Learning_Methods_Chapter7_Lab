{
  "nbformat": 4,
  "nbformat_minor": 0,
  "metadata": {
    "colab": {
      "provenance": []
    },
    "kernelspec": {
      "name": "python3",
      "display_name": "Python 3"
    },
    "language_info": {
      "name": "python"
    }
  },
  "cells": [
    {
      "cell_type": "code",
      "execution_count": 27,
      "metadata": {
        "id": "FhQ8H_-kHAZ1"
      },
      "outputs": [],
      "source": [
        "import numpy as np\n",
        "import pandas as pd\n",
        "from sklearn.base import BaseEstimator, ClassifierMixin, clone\n",
        "from sklearn.preprocessing import LabelEncoder\n",
        "from sklearn.pipeline import _name_estimators\n",
        "\n",
        "\n",
        "\n",
        "\n",
        "class MajorityVoteClassifier(BaseEstimator, ClassifierMixin):\n",
        "    \"\"\"A majority vote ensemble classifier.\"\"\"\n",
        "\n",
        "    def __init__(self, classifiers, vote='classlabel', weights=None):\n",
        "        self.classifiers = classifiers\n",
        "        self.named_classifiers = {key: value for key, value in _name_estimators(classifiers)}\n",
        "        self.vote = vote\n",
        "        self.weights = weights\n",
        "\n",
        "    def fit(self, X, y):\n",
        "        \"\"\"Fit classifiers.\"\"\"\n",
        "        self.lablenc_ = LabelEncoder()\n",
        "        self.lablenc_.fit(y)\n",
        "        self.classes_ = self.lablenc_.classes_\n",
        "        self.classifiers_ = []\n",
        "        for clf in self.classifiers:\n",
        "            fitted_clf = clone(clf).fit(X, self.lablenc_.transform(y))\n",
        "            self.classifiers_.append(fitted_clf)\n",
        "        return self\n",
        "\n",
        "    def predict(self, X):\n",
        "        \"\"\"Predict class labels.\"\"\"\n",
        "        if self.vote == 'probability':\n",
        "            maj_vote = np.argmax(self.predict_proba(X), axis=1)\n",
        "        else:\n",
        "            predictions = np.asarray([clf.predict(X) for clf in self.classifiers_]).T\n",
        "            maj_vote = np.apply_along_axis(\n",
        "                lambda x: np.argmax(np.bincount(x, weights=self.weights)),\n",
        "                axis=1, arr=predictions)\n",
        "        return self.lablenc_.inverse_transform(maj_vote)\n",
        "\n",
        "    def predict_proba(self, X):\n",
        "        \"\"\"Predict class probabilities.\"\"\"\n",
        "        probas = np.asarray([clf.predict_proba(X) for clf in self.classifiers_])\n",
        "        avg_proba = np.average(probas, axis=0, weights=self.weights)\n",
        "        return avg_proba\n",
        "\n",
        "    def get_params(self, deep=True):\n",
        "        \"\"\"Get classifier parameter names for GridSearch.\"\"\"\n",
        "        if not deep:\n",
        "            return super().get_params(deep=False)\n",
        "        else:\n",
        "            out = self.named_classifiers.copy()\n",
        "            for name, step in self.named_classifiers.items():\n",
        "                for key, value in step.get_params(deep=True).items():\n",
        "                    out[f'{name}__{key}'] = value\n",
        "            return out\n"
      ]
    },
    {
      "cell_type": "code",
      "source": [
        "from sklearn import datasets\n",
        "from sklearn.model_selection import train_test_split\n",
        "from sklearn.preprocessing import StandardScaler, LabelEncoder\n",
        "\n",
        "# Load Iris dataset (only versicolor vs virginica)\n",
        "iris = datasets.load_iris()\n",
        "X, y = iris.data[50:, [1, 2]], iris.target[50:]\n",
        "\n",
        "# Encode labels into {0, 1}\n",
        "le = LabelEncoder()\n",
        "y = le.fit_transform(y)\n",
        "\n",
        "# Train-test split with stratification\n",
        "X_train, X_test, y_train, y_test = train_test_split(\n",
        "    X, y, test_size=0.3, random_state=1, stratify=y)\n",
        "\n"
      ],
      "metadata": {
        "id": "L8d19WzwLrDv"
      },
      "execution_count": 28,
      "outputs": []
    },
    {
      "cell_type": "code",
      "source": [
        "from sklearn.linear_model import LogisticRegression\n",
        "from sklearn.tree import DecisionTreeClassifier\n",
        "from sklearn.neighbors import KNeighborsClassifier\n",
        "from sklearn.pipeline import Pipeline\n",
        "from sklearn.model_selection import cross_val_score\n",
        "\n",
        "# Define base classifiers\n",
        "clf1 = LogisticRegression(penalty='l2', C=0.001, random_state=1)\n",
        "clf2 = DecisionTreeClassifier(max_depth=1, criterion='entropy', random_state=0)\n",
        "clf3 = KNeighborsClassifier(n_neighbors=1, p=2, metric='minkowski')\n",
        "\n",
        "# Pipelines for scaling\n",
        "pipe1 = Pipeline([['sc', StandardScaler()], ['clf', clf1]])\n",
        "pipe3 = Pipeline([['sc', StandardScaler()], ['clf', clf3]])\n",
        "\n",
        "clf_labels = ['Logistic regression', 'Decision tree', 'KNN']\n",
        "print('10-fold cross validation:\\n')\n",
        "\n",
        "# Evaluate individual classifiers\n",
        "for clf, label in zip([pipe1, clf2, pipe3], clf_labels):\n",
        "    scores = cross_val_score(estimator=clf, X=X_train, y=y_train,\n",
        "                             cv=10, scoring='roc_auc')\n",
        "    print(\"ROC AUC: %0.2f (+/- %0.2f) [%s]\" %\n",
        "          (scores.mean(), scores.std(), label))\n"
      ],
      "metadata": {
        "colab": {
          "base_uri": "https://localhost:8080/"
        },
        "id": "hzfsNJSBPL9N",
        "outputId": "91f06bf5-5720-4fa1-d976-4d88ecea3504"
      },
      "execution_count": 29,
      "outputs": [
        {
          "output_type": "stream",
          "name": "stdout",
          "text": [
            "10-fold cross validation:\n",
            "\n",
            "ROC AUC: 0.94 (+/- 0.07) [Logistic regression]\n",
            "ROC AUC: 0.90 (+/- 0.12) [Decision tree]\n",
            "ROC AUC: 0.86 (+/- 0.12) [KNN]\n"
          ]
        }
      ]
    },
    {
      "cell_type": "code",
      "source": [
        "\n",
        "# Create majority rule classifier\n",
        "mv_clf = MajorityVoteClassifier(classifiers=[pipe1, clf2, pipe3])\n",
        "clf_labels += ['Majority voting']\n",
        "all_clf = [pipe1, clf2, pipe3, mv_clf]\n",
        "\n",
        "for clf, label in zip(all_clf, clf_labels):\n",
        "    scores = cross_val_score(estimator=clf, X=X_train, y=y_train, cv=10, scoring='accuracy')\n",
        "    print(\"ROC AUC: %0.2f (+/- %0.2f) [%s]\" % (scores.mean(), scores.std(), label))\n"
      ],
      "metadata": {
        "colab": {
          "base_uri": "https://localhost:8080/"
        },
        "id": "0cp7b93RPTW6",
        "outputId": "a1077445-7117-49ce-ba68-0a3a759cf597"
      },
      "execution_count": 38,
      "outputs": [
        {
          "output_type": "stream",
          "name": "stdout",
          "text": [
            "ROC AUC: 0.80 (+/- 0.08) [Logistic regression]\n",
            "ROC AUC: 0.62 (+/- 0.02) [Decision tree]\n",
            "ROC AUC: 0.92 (+/- 0.08) [KNN]\n",
            "ROC AUC: 0.69 (+/- 0.20) [Majority voting]\n"
          ]
        }
      ]
    },
    {
      "cell_type": "code",
      "source": [
        "# Load Wine dataset\n",
        "df_wine = pd.read_csv('https://archive.ics.uci.edu/ml/machine-learning-databases/wine/wine.data', header=None)\n",
        "df_wine.columns = ['Class label', 'Alcohol', 'Malic acid', 'Ash', 'Alcalinity of ash',\n",
        "                   'Magnesium', 'Total phenols', 'Flavanoids', 'Nonflavanoid phenols',\n",
        "                   'Proanthocyanins', 'Color intensity', 'Hue', 'OD280/OD315 of diluted wines', 'Proline']\n",
        "\n",
        "# Drop class 1 and only use classes 2 and 3\n",
        "df_wine = df_wine[df_wine['Class label'] != 1]\n",
        "y = df_wine['Class label'].values\n",
        "X = df_wine[['Alcohol', 'OD280/OD315 of diluted wines']].values\n",
        "\n",
        "# Encode labels and split data\n",
        "le = LabelEncoder()\n",
        "y = le.fit_transform(y)\n",
        "X_train, X_test, y_train, y_test = train_test_split(X, y, test_size=0.2, random_state=1, stratify=y)"
      ],
      "metadata": {
        "id": "eVraNytsRALj"
      },
      "execution_count": 39,
      "outputs": []
    },
    {
      "cell_type": "code",
      "source": [
        "from sklearn.ensemble import BaggingClassifier\n",
        "from sklearn.tree import DecisionTreeClassifier\n",
        "from sklearn.metrics import accuracy_score\n",
        "\n",
        "# Create decision tree classifier\n",
        "tree = DecisionTreeClassifier(criterion='entropy', random_state=1, max_depth=None)\n",
        "\n",
        "# Create bagging classifier\n",
        "bag = BaggingClassifier(estimator=tree, n_estimators=500,\n",
        "                        max_samples=1.0, max_features=1.0,\n",
        "                        bootstrap=True, bootstrap_features=False,\n",
        "                        n_jobs=1, random_state=1)\n",
        "\n",
        "# Train and evaluate individual decision tree\n",
        "tree = tree.fit(X_train, y_train)\n",
        "y_train_pred = tree.predict(X_train)\n",
        "y_test_pred = tree.predict(X_test)\n",
        "tree_train = accuracy_score(y_train, y_train_pred)\n",
        "tree_test = accuracy_score(y_test, y_test_pred)\n",
        "print('Decision tree train/test accuracies %.3f/%.3f' % (tree_train, tree_test))\n",
        "\n",
        "# Train and evaluate bagging classifier\n",
        "bag.fit(X_train, y_train)\n",
        "y_train_pred = bag.predict(X_train)\n",
        "y_test_pred = bag.predict(X_test)\n",
        "bag_train = accuracy_score(y_train, y_train_pred)\n",
        "bag_test = accuracy_score(y_test, y_test_pred)\n",
        "print('Bagging train/test accuracies %.3f/%.3f' % (bag_train, bag_test))"
      ],
      "metadata": {
        "colab": {
          "base_uri": "https://localhost:8080/"
        },
        "id": "QsjlPO8cRT0r",
        "outputId": "d181e88c-1de4-4602-8976-44fe3be26853"
      },
      "execution_count": 40,
      "outputs": [
        {
          "output_type": "stream",
          "name": "stdout",
          "text": [
            "Decision tree train/test accuracies 1.000/0.833\n",
            "Bagging train/test accuracies 1.000/0.917\n"
          ]
        }
      ]
    },
    {
      "cell_type": "code",
      "source": [
        "\n",
        "import matplotlib.pyplot as plt\n",
        "import numpy as np\n",
        "\n",
        "# Create mesh grid for plotting\n",
        "x_min = X_train[:, 0].min() - 1\n",
        "x_max = X_train[:, 0].max() + 1\n",
        "y_min = X_train[:, 1].min() - 1\n",
        "y_max = X_train[:, 1].max() + 1\n",
        "xx, yy = np.meshgrid(np.arange(x_min, x_max, 0.1),\n",
        "                     np.arange(y_min, y_max, 0.1))\n",
        "\n",
        "f, axarr = plt.subplots(nrows=1, ncols=2, sharex='col', sharey='row', figsize=(8, 3))\n",
        "\n",
        "for idx, clf, tt in zip([0, 1], [tree, bag], ['Decision tree', 'Bagging']):\n",
        "    clf.fit(X_train, y_train)\n",
        "    Z = clf.predict(np.c_[xx.ravel(), yy.ravel()])\n",
        "    Z = Z.reshape(xx.shape)\n",
        "    axarr[idx].contourf(xx, yy, Z, alpha=0.3)\n",
        "    axarr[idx].scatter(X_train[y_train==0, 0], X_train[y_train==0, 1], c='blue', marker='^')\n",
        "    axarr[idx].scatter(X_train[y_train==1, 0], X_train[y_train==1, 1], c='green', marker='o')\n",
        "    axarr[idx].set_title(tt)\n",
        "\n",
        "axarr[0].set_ylabel('Alcohol', fontsize=12)\n",
        "plt.text(10.2, -1.2, s='OD280/OD315 of diluted wines', ha='center', va='center', fontsize=12)\n",
        "plt.tight_layout()\n",
        "plt.show()"
      ],
      "metadata": {
        "colab": {
          "base_uri": "https://localhost:8080/",
          "height": 219
        },
        "id": "XtcPXZXNTPOP",
        "outputId": "d1727d90-1982-44b6-846d-d564f0cd02a3"
      },
      "execution_count": 41,
      "outputs": [
        {
          "output_type": "display_data",
          "data": {
            "text/plain": [
              "<Figure size 800x300 with 2 Axes>"
            ],
            "image/png": "[encoded data removed]"
          },
          "metadata": {}
        }
      ]
    },
    {
      "cell_type": "code",
      "source": [
        "from sklearn.ensemble import AdaBoostClassifier\n",
        "\n",
        "# Create decision tree stump\n",
        "tree = DecisionTreeClassifier(criterion='entropy', random_state=1, max_depth=1)\n",
        "\n",
        "# Create AdaBoost classifier\n",
        "ada = AdaBoostClassifier(estimator=tree, n_estimators=500,\n",
        "                         learning_rate=0.1, random_state=1)\n",
        "\n",
        "# Train individual decision tree stump\n",
        "tree = tree.fit(X_train, y_train)\n",
        "y_train_pred = tree.predict(X_train)\n",
        "y_test_pred = tree.predict(X_test)\n",
        "tree_train = accuracy_score(y_train, y_train_pred)\n",
        "tree_test = accuracy_score(y_test, y_test_pred)\n",
        "print('Decision tree stump train/test accuracies %.3f/%.3f' % (tree_train, tree_test))\n",
        "\n",
        "# Train AdaBoost classifier\n",
        "ada = ada.fit(X_train, y_train)\n",
        "y_train_pred = ada.predict(X_train)\n",
        "y_test_pred = ada.predict(X_test)\n",
        "ada_train = accuracy_score(y_train, y_train_pred)\n",
        "ada_test = accuracy_score(y_test, y_test_pred)\n",
        "print('AdaBoost train/test accuracies %.3f/%.3f' % (ada_train, ada_test))"
      ],
      "metadata": {
        "colab": {
          "base_uri": "https://localhost:8080/"
        },
        "id": "fzNykenTTZbc",
        "outputId": "2d49cb7f-133f-45d9-f8b9-5028c0f350ed"
      },
      "execution_count": 34,
      "outputs": [
        {
          "output_type": "stream",
          "name": "stdout",
          "text": [
            "Decision tree stump train/test accuracies 0.916/0.875\n",
            "AdaBoost train/test accuracies 0.968/0.917\n"
          ]
        }
      ]
    },
    {
      "cell_type": "code",
      "source": [
        "\n",
        "# Plot error convergence for AdaBoost\n",
        "ada = AdaBoostClassifier(estimator=DecisionTreeClassifier(max_depth=1, random_state=1),\n",
        "                         n_estimators=500, learning_rate=0.1, random_state=1)\n",
        "\n",
        "ada.fit(X_train, y_train)\n",
        "ada_train_err = []\n",
        "ada_test_err = []\n",
        "\n",
        "for y_train_pred, y_test_pred in zip(ada.staged_predict(X_train), ada.staged_predict(X_test)):\n",
        "    ada_train_err.append(1 - accuracy_score(y_train, y_train_pred))\n",
        "    ada_test_err.append(1 - accuracy_score(y_test, y_test_pred))\n",
        "\n",
        "plt.plot(range(1, len(ada_train_err) + 1), ada_train_err, label='Training error', color='blue', linestyle='-')\n",
        "plt.plot(range(1, len(ada_test_err) + 1), ada_test_err, label='Test error', color='red', linestyle='--')\n",
        "plt.xlabel('Number of boosting iterations')\n",
        "plt.ylabel('Error')\n",
        "plt.legend(loc='upper right')\n",
        "plt.ylim(0, 0.5)\n",
        "plt.title('AdaBoost error convergence')\n",
        "plt.tight_layout()\n",
        "plt.show()"
      ],
      "metadata": {
        "colab": {
          "base_uri": "https://localhost:8080/",
          "height": 466
        },
        "id": "XJFTCOu9Tx1j",
        "outputId": "6bde9b0b-b132-4de7-e71d-dd2b667aa248"
      },
      "execution_count": 35,
      "outputs": [
        {
          "output_type": "display_data",
          "data": {
            "text/plain": [
              "<Figure size 640x480 with 1 Axes>"
            ],
            "image/png": "[encoded data removed]"
          },
          "metadata": {}
        }
      ]
    },
    {
      "cell_type": "code",
      "source": [
        "from sklearn.linear_model import LogisticRegression\n",
        "from sklearn.neighbors import KNeighborsClassifier\n",
        "from sklearn.ensemble import RandomForestClassifier, VotingClassifier\n",
        "from sklearn.model_selection import GridSearchCV\n",
        "\n",
        "# Prepare Iris dataset for comprehensive comparison\n",
        "iris = datasets.load_iris()\n",
        "X, y = iris.data, iris.target\n",
        "X_train, X_test, y_train, y_test = train_test_split(X, y, test_size=0.3, random_state=1, stratify=y)\n",
        "\n",
        "# Create individual classifiers\n",
        "clf_lr = LogisticRegression(random_state=1, max_iter=1000)\n",
        "clf_knn = KNeighborsClassifier()\n",
        "clf_dt = DecisionTreeClassifier(random_state=1)\n",
        "clf_rf = RandomForestClassifier(random_state=1)\n",
        "\n",
        "# Create ensemble methods\n",
        "voting_clf = VotingClassifier(estimators=[\n",
        "    ('lr', clf_lr), ('knn', clf_knn), ('dt', clf_dt), ('rf', clf_rf)], voting='hard')\n",
        "\n",
        "bagging_clf = BaggingClassifier(estimator=clf_dt, n_estimators=100, random_state=1)\n",
        "adaboost_clf = AdaBoostClassifier(estimator=clf_dt, n_estimators=100, random_state=1)\n",
        "\n",
        "classifiers = [clf_lr, clf_knn, clf_dt, clf_rf, voting_clf, bagging_clf, adaboost_clf]\n",
        "classifier_names = ['Logistic Regression', 'KNN', 'Decision Tree', 'Random Forest',\n",
        "                    'Voting Classifier', 'Bagging', 'AdaBoost']\n",
        "\n",
        "# Evaluate all classifiers\n",
        "results = []\n",
        "for clf, name in zip(classifiers, classifier_names):\n",
        "    scores = cross_val_score(clf, X_train, y_train, cv=10, scoring='accuracy')\n",
        "    results.append({\n",
        "        'Classifier': name,\n",
        "        'Mean Accuracy': scores.mean(),\n",
        "        'Std Accuracy': scores.std()\n",
        "    })\n",
        "\n",
        "results_df = pd.DataFrame(results)\n",
        "print(results_df.sort_values('Mean Accuracy', ascending=False))"
      ],
      "metadata": {
        "colab": {
          "base_uri": "https://localhost:8080/"
        },
        "id": "WeG-M6rmUSYv",
        "outputId": "891ff142-c429-471b-b5c6-520963900b07"
      },
      "execution_count": 42,
      "outputs": [
        {
          "output_type": "stream",
          "name": "stdout",
          "text": [
            "            Classifier  Mean Accuracy  Std Accuracy\n",
            "1                  KNN       0.951818      0.048285\n",
            "0  Logistic Regression       0.941818      0.047621\n",
            "4    Voting Classifier       0.940909      0.065839\n",
            "5              Bagging       0.940909      0.065839\n",
            "3        Random Forest       0.931818      0.063278\n",
            "2        Decision Tree       0.922727      0.059231\n",
            "6             AdaBoost       0.922727      0.071841\n"
          ]
        }
      ]
    },
    {
      "cell_type": "code",
      "source": [
        "\n",
        "# Tune AdaBoost parameters\n",
        "param_grid_ada = {\n",
        "    'n_estimators': [50, 100, 200],\n",
        "    'learning_rate': [0.1, 0.5, 1.0],\n",
        "    'estimator__max_depth': [1, 2, 3]\n",
        "}\n",
        "\n",
        "ada = AdaBoostClassifier(estimator=DecisionTreeClassifier(random_state=1))\n",
        "gs_ada = GridSearchCV(ada, param_grid_ada, cv=5, scoring='accuracy', n_jobs=-1)\n",
        "gs_ada.fit(X_train, y_train)\n",
        "\n",
        "print(\"AdaBoost Best parameters: \", gs_ada.best_params_)\n",
        "print(\"AdaBoost Best score: \", gs_ada.best_score_)\n",
        "\n",
        "# Tune Bagging parameters\n",
        "param_grid_bag = {\n",
        "    'n_estimators': [50, 100, 200],\n",
        "    'max_samples': [0.5, 0.8, 1.0],\n",
        "    'max_features': [0.5, 0.8, 1.0]\n",
        "}\n",
        "\n",
        "bag = BaggingClassifier(estimator=DecisionTreeClassifier(random_state=1), random_state=1)\n",
        "gs_bag = GridSearchCV(bag, param_grid_bag, cv=5, scoring='accuracy', n_jobs=-1)\n",
        "gs_bag.fit(X_train, y_train)\n",
        "\n",
        "print(\"Bagging Best parameters: \", gs_bag.best_params_)\n",
        "print(\"Bagging Best score: \", gs_bag.best_score_)"
      ],
      "metadata": {
        "colab": {
          "base_uri": "https://localhost:8080/"
        },
        "id": "pQk7NSgwUlHI",
        "outputId": "f704971b-3023-4643-9f2e-8c89f14234df"
      },
      "execution_count": 37,
      "outputs": [
        {
          "output_type": "stream",
          "name": "stdout",
          "text": [
            "AdaBoost Best parameters:  {'estimator__max_depth': 1, 'learning_rate': 0.1, 'n_estimators': 50}\n",
            "AdaBoost Best score:  0.9714285714285713\n",
            "Bagging Best parameters:  {'max_features': 0.8, 'max_samples': 0.5, 'n_estimators': 200}\n",
            "Bagging Best score:  0.9523809523809523\n"
          ]
        }
      ]
    },
    {
      "cell_type": "markdown",
      "source": [
        "1. Compare the performance of the majority voting classifier with individual classifiers. Why does the ensemble typically perform better? Are there cases where it might perform worse? Bagging Analysis\n",
        "\n",
        "Majority voting aggregates multiple perspectives, smoothing out mistakes of individual classifiers.\n",
        "\n",
        "Individual classifiers might overfit specific patterns, the ensemble balances them.\n",
        "\n",
        "Reduces variance and increases robustness.\n",
        "\n",
        "Cases where it might perform worse:\n",
        "\n",
        "If all individual classifiers are very weak or biased, voting may reinforce wrong predictions.\n",
        "\n",
        "If classifiers are highly correlated, ensemble gain is minimal.\n",
        "\n",
        "2. How does changing the number of estimators in bagging affect performance? What is the effect of bootstrap sampling vs using the entire dataset? Why does bagging typically reduce overfitting compared to a single decision tree?\n",
        "\n",
        "Effects of changing numbers:\n",
        "\n",
        "Small number of trees (1-10): unstable, high variance.\n",
        "\n",
        "Moderate to large number (100-500): variance reduces, predictions stabilize.\n",
        "\n",
        "Too many trees: marginal improvement, higher computational cost.\n",
        "\n",
        "Bootstrap sampling vs full dataset:\n",
        "\n",
        "Bootstrap creates diverse trees, reducing overfitting.\n",
        "\n",
        "Using the full dataset for each tree removes this diversity leading to less variance reduction.\n",
        "\n",
        "Why bagging reduces overfitting:\n",
        "\n",
        "Single decision tree have high variance and sensitive to noise.\n",
        "\n",
        "Bagging averages many independent trees makes predictions smooth and lowers variance.\n",
        "\n",
        "3. How does the learning rate parameter affect AdaBoost's performance and convergence? Analyze the error convergence plot. Why does the test error sometimes increase after many iterations? What makes decision stumps good base estimators for AdaBoost?\n",
        "\n",
        "Effect of learning rate:\n",
        "\n",
        "Small learning rate: slower convergence, less risk of overfitting.\n",
        "\n",
        "Large learning rate: faster convergence, but can overshoot and overfit.\n",
        "\n",
        "Tradeoff: learning_rate * n_estimators controls total contribution of base learners.\n",
        "\n",
        "Error convergence plot analysis:\n",
        "\n",
        "Training error steadily decreases to near 0.\n",
        "\n",
        "Test error often decreases initially, but may increase slightly after many iterations from overfitting to noise.\n",
        "\n",
        "Why decision stumps are good base estimators:\n",
        "\n",
        "Weak learners focus on misclassified samples each iteration.\n",
        "\n",
        "Simple structure avoids overfitting while allowing AdaBoost to combine many weak learners into a strong classifier."
      ],
      "metadata": {
        "id": "VbkDTnxKbA5H"
      }
    },
    {
      "cell_type": "markdown",
      "source": [
        "1. Compare the performance of the majority voting classifier with individual classifiers. Why does the ensemble typically perform better? Are there cases where it might perform worse? Bagging Analysis\n",
        "\n",
        "Majority voting aggregates multiple perspectives, smoothing out mistakes of individual classifiers.\n",
        "\n",
        "Individual classifiers might overfit specific patterns, the ensemble balances them.\n",
        "\n",
        "Reduces variance and increases robustness.\n",
        "\n",
        "Cases where it might perform worse:\n",
        "\n",
        "If all individual classifiers are very weak or biased, voting may reinforce wrong predictions.\n",
        "\n",
        "If classifiers are highly correlated, ensemble gain is minimal.\n",
        "\n",
        "2. How does changing the number of estimators in bagging affect performance? What is the effect of bootstrap sampling vs using the entire dataset? Why does bagging typically reduce overfitting compared to a single decision tree?\n",
        "\n",
        "Effects of changing numbers:\n",
        "\n",
        "Small number of trees (1-10): unstable, high variance.\n",
        "\n",
        "Moderate to large number (100-500): variance reduces, predictions stabilize.\n",
        "\n",
        "Too many trees: marginal improvement, higher computational cost.\n",
        "\n",
        "Bootstrap sampling vs full dataset:\n",
        "\n",
        "Bootstrap creates diverse trees, reducing overfitting.\n",
        "\n",
        "Using the full dataset for each tree removes this diversity leading to less variance reduction.\n",
        "\n",
        "Why bagging reduces overfitting:\n",
        "\n",
        "Single decision tree have high variance and sensitive to noise.\n",
        "\n",
        "Bagging averages many independent trees makes predictions smooth and lowers variance.\n",
        "\n",
        "3. How does the learning rate parameter affect AdaBoost's performance and convergence? Analyze the error convergence plot. Why does the test error sometimes increase after many iterations? What makes decision stumps good base estimators for AdaBoost?\n",
        "\n",
        "Effect of learning rate:\n",
        "\n",
        "Small learning rate: slower convergence, less risk of overfitting.\n",
        "\n",
        "Large learning rate: faster convergence, but can overshoot and overfit.\n",
        "\n",
        "Tradeoff: learning_rate * n_estimators controls total contribution of base learners.\n",
        "\n",
        "Error convergence plot analysis:\n",
        "\n",
        "Training error steadily decreases to near 0.\n",
        "\n",
        "Test error often decreases initially, but may increase slightly after many iterations from overfitting to noise.\n",
        "\n",
        "Why decision stumps are good base estimators:\n",
        "\n",
        "Weak learners focus on misclassified samples each iteration.\n",
        "\n",
        "Simple structure avoids overfitting while allowing AdaBoost to combine many weak learners into a strong classifier."
      ],
      "metadata": {
        "id": "XhcpXxW_gaAP"
      }
    },
    {
      "cell_type": "markdown",
      "source": [
        "1. Compare the performance of the majority voting classifier with individual classifiers. Why does the ensemble typically perform better? Are there cases where it might perform worse? Bagging Analysis\n",
        "\n",
        "Majority voting aggregates multiple perspectives, smoothing out mistakes of individual classifiers.\n",
        "\n",
        "Individual classifiers might overfit specific patterns, the ensemble balances them.\n",
        "\n",
        "Reduces variance and increases robustness.\n",
        "\n",
        "Cases where it might perform worse:\n",
        "\n",
        "If all individual classifiers are very weak or biased, voting may reinforce wrong predictions.\n",
        "\n",
        "If classifiers are highly correlated, ensemble gain is minimal.\n",
        "\n",
        "2. How does changing the number of estimators in bagging affect performance? What is the effect of bootstrap sampling vs using the entire dataset? Why does bagging typically reduce overfitting compared to a single decision tree?\n",
        "\n",
        "Effects of changing numbers:\n",
        "\n",
        "Small number of trees (1-10): unstable, high variance.\n",
        "\n",
        "Moderate to large number (100-500): variance reduces, predictions stabilize.\n",
        "\n",
        "Too many trees: marginal improvement, higher computational cost.\n",
        "\n",
        "Bootstrap sampling vs full dataset:\n",
        "\n",
        "Bootstrap creates diverse trees, reducing overfitting.\n",
        "\n",
        "Using the full dataset for each tree removes this diversity leading to less variance reduction.\n",
        "\n",
        "Why bagging reduces overfitting:\n",
        "\n",
        "Single decision tree have high variance and sensitive to noise.\n",
        "\n",
        "Bagging averages many independent trees makes predictions smooth and lowers variance.\n",
        "\n",
        "3. How does the learning rate parameter affect AdaBoost's performance and convergence? Analyze the error convergence plot. Why does the test error sometimes increase after many iterations? What makes decision stumps good base estimators for AdaBoost?\n",
        "\n",
        "Effect of learning rate:\n",
        "\n",
        "Small learning rate: slower convergence, less risk of overfitting.\n",
        "\n",
        "Large learning rate: faster convergence, but can overshoot and overfit.\n",
        "\n",
        "Tradeoff: learning_rate * n_estimators controls total contribution of base learners.\n",
        "\n",
        "Error convergence plot analysis:\n",
        "\n",
        "Training error steadily decreases to near 0.\n",
        "\n",
        "Test error often decreases initially, but may increase slightly after many iterations from overfitting to noise.\n",
        "\n",
        "What makes decision stumps good base estimators:\n",
        "\n",
        "Weak learners focus on misclassified samples each iteration.\n",
        "\n",
        "Simple structure avoids overfitting while allowing AdaBoost to combine many weak learners into a strong classifier.\n",
        "\n",
        "4. Which ensemble method performed best on the Iris dataset? Why do you think this is? How does Random Forest (which you used in the comparison) relate to bagging? When would you choose one ensemble method over another?\n",
        "\n",
        "AdaBoost performed best because it adaptively focused on difficult samples.\n",
        "\n",
        "Random Forest is essentially bagging with feature randomness which is good for reducing overfitting and improving generalization.\n",
        "\n",
        "Choice depends on dataset:\n",
        "\n",
        "Bagging: high-variance models, noisy data.\n",
        "\n",
        "AdaBoost: clean data, weak learners, focus on difficult samples.\n",
        "\n",
        "Voting: diverse strong classifiers"
      ],
      "metadata": {
        "id": "QfH2lSQXgzgN"
      }
    }
  ]
}